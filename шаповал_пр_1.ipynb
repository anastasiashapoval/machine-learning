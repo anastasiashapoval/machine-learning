{
  "nbformat": 4,
  "nbformat_minor": 0,
  "metadata": {
    "colab": {
      "provenance": [],
      "authorship_tag": "ABX9TyPv4JM69Asz4QLQXytw7rmR",
      "include_colab_link": true
    },
    "kernelspec": {
      "name": "python3",
      "display_name": "Python 3"
    },
    "language_info": {
      "name": "python"
    }
  },
  "cells": [
    {
      "cell_type": "markdown",
      "metadata": {
        "id": "view-in-github",
        "colab_type": "text"
      },
      "source": [
        "<a href=\"https://colab.research.google.com/github/anastasiashapoval/machine-learning/blob/main/%D1%88%D0%B0%D0%BF%D0%BE%D0%B2%D0%B0%D0%BB_%D0%BF%D1%80_1.ipynb\" target=\"_parent\"><img src=\"https://colab.research.google.com/assets/colab-badge.svg\" alt=\"Open In Colab\"/></a>"
      ]
    },
    {
      "cell_type": "code",
      "execution_count": 2,
      "metadata": {
        "id": "HPvpabmAXXsi"
      },
      "outputs": [],
      "source": [
        "# Варіант 19\n",
        "import numpy as np"
      ]
    },
    {
      "cell_type": "code",
      "source": [
        "# 1. Створіть одновимірний масив (вектор) з добутками парних чисел на їхні попередні\n",
        "# непарні числа, починаючи з 2, та виведіть його значення.\n",
        "\n",
        "even_numbers = np.arange(2, 21, 2)\n",
        "\n",
        "array = even_numbers * (even_numbers - 1)\n",
        "\n",
        "print(array)"
      ],
      "metadata": {
        "colab": {
          "base_uri": "https://localhost:8080/"
        },
        "id": "LnCg_ja0Z577",
        "outputId": "5b291028-ccbb-4d0a-a0bc-9df316a14f5b"
      },
      "execution_count": 7,
      "outputs": [
        {
          "output_type": "stream",
          "name": "stdout",
          "text": [
            "[  2  12  30  56  90 132 182 240 306 380]\n"
          ]
        }
      ]
    },
    {
      "cell_type": "code",
      "source": [
        "# 2. Створіть двовимірний масив (матрицю) розміром 3x3, заповніть його значеннями\n",
        "# квадратів випадкових цілих чисел від 1 до 100.\n",
        "matrix1 = np.random.randint(1, 101, (3, 3))\n",
        "\n",
        "matrix2 = np.square(matrix1)\n",
        "\n",
        "print(matrix2)"
      ],
      "metadata": {
        "colab": {
          "base_uri": "https://localhost:8080/"
        },
        "id": "W22RCm6NaTzZ",
        "outputId": "a568c318-fa65-4c69-f750-8eec7e9368ea"
      },
      "execution_count": 6,
      "outputs": [
        {
          "output_type": "stream",
          "name": "stdout",
          "text": [
            "[[2500 9604  841]\n",
            " [ 961 8100    1]\n",
            " [ 121 4225 8100]]\n"
          ]
        }
      ]
    },
    {
      "cell_type": "code",
      "source": [
        "# 3. Створіть масив розміром 5x5, заповніть його випадковими дійсними числами від -2 до\n",
        "# 2 та знайдіть середнє за модулем значення його елементів\n",
        "matrix1 = np.random.uniform(-2, 2, (5, 5))\n",
        "\n",
        "matrix2 = np.mean(np.abs(matrix1))\n",
        "\n",
        "print(matrix1)\n",
        "print(\"середнє за модулем значення елементів:\", matrix2)"
      ],
      "metadata": {
        "colab": {
          "base_uri": "https://localhost:8080/"
        },
        "id": "dtMHFCMIa2YJ",
        "outputId": "c8fbc4a8-bb01-4ab5-f53a-d9e26b3c07b9"
      },
      "execution_count": 44,
      "outputs": [
        {
          "output_type": "stream",
          "name": "stdout",
          "text": [
            "[[-1.02032591  0.74986505  0.29761484  1.19894433 -0.2977757 ]\n",
            " [-1.13888848  0.95605528  1.28849905  0.18527779  1.1662779 ]\n",
            " [ 0.9255117  -1.91081564 -1.87670134 -1.9210899  -0.21726653]\n",
            " [ 0.66429897  0.09613957 -1.40495146  1.9770101  -1.46852433]\n",
            " [ 0.25867761  0.52111422 -1.21822671 -0.19728623 -0.81666804]]\n",
            "середнє за модулем значення елементів: 0.950952267508625\n"
          ]
        }
      ]
    },
    {
      "cell_type": "code",
      "source": [
        "# 4. Створіть масив розміром 5x5, заповніть його випадковими дійсними числами в\n",
        "# діапазоні від 0 до 1 та обчисліть суму елементів, які менше середнього значення\n",
        "matrix1 = np.random.rand(5, 5)\n",
        "\n",
        "mean = np.mean(matrix1)\n",
        "\n",
        "less_than_mean = matrix1[matrix1 < mean] # елементи, менші за середнє значення\n",
        "\n",
        "matrix2 = np.sum(less_than_mean) # сума елементів, мннших за середнє значення\n",
        "\n",
        "print(matrix1)\n",
        "print(\"середнє значення масиву:\", mean)\n",
        "print(\"сума елементів, менших за середнє:\", matrix2)"
      ],
      "metadata": {
        "colab": {
          "base_uri": "https://localhost:8080/"
        },
        "id": "CayegomRfMuf",
        "outputId": "2f5e8047-1530-469b-ee7a-e7205a1e831d"
      },
      "execution_count": 43,
      "outputs": [
        {
          "output_type": "stream",
          "name": "stdout",
          "text": [
            "[[0.32692945 0.35815878 0.14579757 0.98544165 0.64707137]\n",
            " [0.1120854  0.57680584 0.20170737 0.8718585  0.67934653]\n",
            " [0.88982469 0.74851567 0.37074365 0.33271528 0.22939605]\n",
            " [0.31020524 0.57405494 0.19650749 0.85414217 0.52546103]\n",
            " [0.78801837 0.99888658 0.80922558 0.78568707 0.90677448]]\n",
            "середнє значення масиву: 0.5690144309373846\n",
            "сума елементів, менших за середнє: 3.1097073309184298\n"
          ]
        }
      ]
    },
    {
      "cell_type": "code",
      "source": [
        "# 5. Створіть два одновимірних масиви розміром 7, заповніть їх випадковими дійсними\n",
        "# числами від -2 до 2 та виконайте на них поелементні операції додавання, віднімання\n",
        "# ta множення.\n",
        "\n",
        "array1 = np.random.uniform(-2, 2, 7)\n",
        "array2 = np.random.uniform(-2, 2, 7)\n",
        "\n",
        "add = array1 + array2\n",
        "sub = array1 - array2\n",
        "multi = array1 * 3\n",
        "\n",
        "print(\"масив 1:\", array1)\n",
        "print(\"масив 2:\", array2)\n",
        "print(\"додавання:\", add)\n",
        "print(\"віднімання:\", sub)\n",
        "print(\"множення:\", multi)"
      ],
      "metadata": {
        "colab": {
          "base_uri": "https://localhost:8080/"
        },
        "id": "3vzsUDSWqhgK",
        "outputId": "4347bf38-c50a-4d73-b433-2a41c1d4380b"
      },
      "execution_count": 42,
      "outputs": [
        {
          "output_type": "stream",
          "name": "stdout",
          "text": [
            "масив 1: [-1.01049216  0.67377786  1.54612755 -0.75826036  1.81465317  1.24551272\n",
            " -1.77893655]\n",
            "масив 2: [-1.41450088  1.78134191 -1.28649578 -1.94675311 -1.21250231  1.94226059\n",
            "  0.13822722]\n",
            "додавання: [-2.42499303  2.45511977  0.25963177 -2.70501347  0.60215085  3.18777331\n",
            " -1.64070933]\n",
            "віднімання: [ 0.40400872 -1.10756404  2.83262332  1.18849275  3.02715548 -0.69674787\n",
            " -1.91716377]\n",
            "множення: [-3.03147648  2.02133359  4.63838264 -2.27478108  5.4439595   3.73653817\n",
            " -5.33680964]\n"
          ]
        }
      ]
    },
    {
      "cell_type": "code",
      "source": [
        "# 6. Створіть дві матриці 4x4, заповніть їх довільними цілими числами від 7 до 17 та\n",
        "# знайдіть їх добуток.\n",
        "\n",
        "matrix1 = np.random.randint(7, 18, (4, 4))\n",
        "matrix2 = np.random.randint(7, 18, (4, 4))\n",
        "\n",
        "d = np.dot(matrix1, matrix2)\n",
        "\n",
        "print(\"матриця 1:\")\n",
        "print(matrix1)\n",
        "print(\"матриця 2:\")\n",
        "print(matrix2)\n",
        "print(\"добуток матриць:\")\n",
        "print(d)"
      ],
      "metadata": {
        "id": "YhyUwSbxsBre",
        "colab": {
          "base_uri": "https://localhost:8080/"
        },
        "outputId": "b5b333ba-98bc-4fb1-a21b-07d248b070d0"
      },
      "execution_count": 119,
      "outputs": [
        {
          "output_type": "stream",
          "name": "stdout",
          "text": [
            "матриця 1:\n",
            "[[16 17 12 15]\n",
            " [13 13 12 10]\n",
            " [12 11 12 11]\n",
            " [14 13 17 15]]\n",
            "матриця 2:\n",
            "[[16  9 15  9]\n",
            " [ 7 11 16 16]\n",
            " [10 12 15  8]\n",
            " [11 10 11 17]]\n",
            "добуток матриць:\n",
            "[[660 625 857 767]\n",
            " [529 504 693 591]\n",
            " [510 483 657 567]\n",
            " [650 623 838 725]]\n"
          ]
        }
      ]
    },
    {
      "cell_type": "code",
      "source": [
        "# 7. Створіть дві матриці розміром 4x2 та 2x5, заповніть їх випадковими цілими числами\n",
        "# в діапазоні від 1 до 6 та перемножте їх між собою.\n",
        "\n",
        "matrix1 = np.random.randint(1, 7, (4, 2))\n",
        "\n",
        "matrix2 = np.random.randint(1, 7, (2, 5))\n",
        "\n",
        "d = np.dot(matrix1, matrix2)\n",
        "\n",
        "print(\"матриця 1:\")\n",
        "print(matrix1)\n",
        "print(\"матриця 2:\")\n",
        "print(matrix2)\n",
        "print(\"добуток матриць:\")\n",
        "print(d)"
      ],
      "metadata": {
        "colab": {
          "base_uri": "https://localhost:8080/"
        },
        "id": "1aBRpUTtvBOt",
        "outputId": "986a48d8-19c0-461e-a5e7-6ad914742f4e"
      },
      "execution_count": 118,
      "outputs": [
        {
          "output_type": "stream",
          "name": "stdout",
          "text": [
            "матриця 1:\n",
            "[[2 1]\n",
            " [5 5]\n",
            " [2 3]\n",
            " [3 1]]\n",
            "матриця 2:\n",
            "[[2 6 5 1 6]\n",
            " [1 2 4 6 3]]\n",
            "добуток матриць:\n",
            "[[ 5 14 14  8 15]\n",
            " [15 40 45 35 45]\n",
            " [ 7 18 22 20 21]\n",
            " [ 7 20 19  9 21]]\n"
          ]
        }
      ]
    },
    {
      "cell_type": "code",
      "source": [
        "# 8.  Створіть матрицю розміром 2x2, заповніть її випадковими цілими числами в діапазоні\n",
        "# від 1 до 10 та знайдіть її обернену матрицю.\n",
        "matrix = np.random.randint(1, 11, (2, 2))\n",
        "\n",
        "inverse_matrix = np.linalg.inv(matrix)\n",
        "\n",
        "print(\"матриця:\")\n",
        "print(matrix)\n",
        "print(\"обернена матриця:\")\n",
        "print(inverse_matrix)"
      ],
      "metadata": {
        "colab": {
          "base_uri": "https://localhost:8080/"
        },
        "id": "We3hvLD_Dvo5",
        "outputId": "7dd5ee9f-86bf-406e-910a-906711140e5a"
      },
      "execution_count": 117,
      "outputs": [
        {
          "output_type": "stream",
          "name": "stdout",
          "text": [
            "матриця:\n",
            "[[ 4  5]\n",
            " [10  1]]\n",
            "обернена матриця:\n",
            "[[-0.02173913  0.10869565]\n",
            " [ 0.2173913  -0.08695652]]\n"
          ]
        }
      ]
    },
    {
      "cell_type": "code",
      "source": [
        "# 9. Створіть матрицю розміром 3x3, заповніть її випадковими дійсними числами в\n",
        "# діапазоні від 10 до 50 та транспонуйте її.\n",
        "matrix = np.random.uniform(10, 50, (3, 3))\n",
        "\n",
        "t_matrix = matrix.T\n",
        "\n",
        "print(\"матриця:\")\n",
        "print(matrix)\n",
        "print(\"транспонована матриця:\")\n",
        "print(t_matrix)"
      ],
      "metadata": {
        "colab": {
          "base_uri": "https://localhost:8080/"
        },
        "id": "abJA2VKeFnd_",
        "outputId": "77f401e7-be4f-4c0c-87fd-4ab4153381f4"
      },
      "execution_count": 116,
      "outputs": [
        {
          "output_type": "stream",
          "name": "stdout",
          "text": [
            "матриця:\n",
            "[[10.23192513 46.5961284  12.43068011]\n",
            " [13.41531007 25.91100792 30.45617065]\n",
            " [18.61777575 20.94395376 36.29250631]]\n",
            "транспонована матриця:\n",
            "[[10.23192513 13.41531007 18.61777575]\n",
            " [46.5961284  25.91100792 20.94395376]\n",
            " [12.43068011 30.45617065 36.29250631]]\n"
          ]
        }
      ]
    },
    {
      "cell_type": "code",
      "source": [
        "# 10. Створіть матрицю розміром 3x4 та вектор розміром 4x1, заповніть матрицю\n",
        "# випадковими цілими числами в діапазоні від 1 до 10, а вектор - випадковими дійсними\n",
        "# числами від 0 до 1, і знайдіть добуток матриці на вектор.\n",
        "matrix = np.random.randint(1, 11, (3, 4))\n",
        "\n",
        "vector = np.random.uniform(0, 1, (4, 1))\n",
        "\n",
        "d = np.dot(matrix, vector)\n",
        "\n",
        "print(\"матриця:\")\n",
        "print(matrix)\n",
        "print(\"вектор:\")\n",
        "print(vector)\n",
        "print(\"добуток:\")\n",
        "print(d)"
      ],
      "metadata": {
        "colab": {
          "base_uri": "https://localhost:8080/"
        },
        "id": "OGh_9lewG2Df",
        "outputId": "a547ecc1-658f-49f2-9ab2-b1f009950d69"
      },
      "execution_count": 115,
      "outputs": [
        {
          "output_type": "stream",
          "name": "stdout",
          "text": [
            "матриця:\n",
            "[[ 5  8  9  1]\n",
            " [ 4  8  1  3]\n",
            " [ 8  1 10  9]]\n",
            "вектор:\n",
            "[[0.29905026]\n",
            " [0.82347666]\n",
            " [0.64655288]\n",
            " [0.27020236]]\n",
            "добуток:\n",
            "[[14.17224287]\n",
            " [ 9.24117429]\n",
            " [12.11322879]]\n"
          ]
        }
      ]
    },
    {
      "cell_type": "code",
      "source": [
        "# 11. Створіть матрицю розміром 2x3 та вектор розміром 3x1, заповніть матрицю\n",
        "# випадковими дійсними числами від 0 до 1, а вектор - випадковими цілими числами в\n",
        "# діапазоні від 1 до 10, і знайдіть добуток матриці на вектор.\n",
        "\n",
        "matrix = np.random.uniform(0, 1, (2, 3))\n",
        "\n",
        "vector = np.random.randint(1, 11, (3, 1))\n",
        "\n",
        "d = np.dot(matrix, vector)\n",
        "\n",
        "print(\"матриця:\")\n",
        "print(matrix)\n",
        "print(\"вектор:\")\n",
        "print(vector)\n",
        "print(\"добуток:\")\n",
        "print(d)"
      ],
      "metadata": {
        "colab": {
          "base_uri": "https://localhost:8080/"
        },
        "id": "89rw6MfNJePN",
        "outputId": "76de4174-e5b0-4509-8973-1b429ef151f7"
      },
      "execution_count": 114,
      "outputs": [
        {
          "output_type": "stream",
          "name": "stdout",
          "text": [
            "матриця:\n",
            "[[0.39713717 0.48298931 0.79463979]\n",
            " [0.54168163 0.95033612 0.71260502]]\n",
            "вектор:\n",
            "[[6]\n",
            " [4]\n",
            " [7]]\n",
            "добуток:\n",
            "[[ 9.87725877]\n",
            " [12.03966944]]\n"
          ]
        }
      ]
    },
    {
      "cell_type": "code",
      "source": [
        "# 12. Створіть дві матриці розміром 3x3, заповніть їх випадковими цілими числами в\n",
        "# діапазоні від 1 до 5 та знайдіть добуток елементів діагоналей обох матриць (окремо).\n",
        "\n",
        "matrix1 = np.random.randint(1, 6, (3, 3))\n",
        "matrix2 = np.random.randint(1, 6, (3, 3))\n",
        "\n",
        "d_diag1 = np.prod(np.diag(matrix1))\n",
        "d_diag2 = np.prod(np.diag(matrix2))\n",
        "\n",
        "print(matrix1)\n",
        "print(\"добуток елементів діагоналі першої матриці:\", d_diag1)\n",
        "\n",
        "print(matrix2)\n",
        "print(\"добуток елементів діагоналі другої матриці:\", d_diag2)"
      ],
      "metadata": {
        "colab": {
          "base_uri": "https://localhost:8080/"
        },
        "id": "U3Ta1d2TLo7E",
        "outputId": "098b63f7-c0f8-4248-cb42-fceee1f7b037"
      },
      "execution_count": 113,
      "outputs": [
        {
          "output_type": "stream",
          "name": "stdout",
          "text": [
            "[[3 2 1]\n",
            " [5 5 2]\n",
            " [4 5 5]]\n",
            "добуток елементів діагоналі першої матриці: 75\n",
            "[[1 3 4]\n",
            " [3 1 2]\n",
            " [3 5 5]]\n",
            "добуток елементів діагоналі другої матриці: 5\n"
          ]
        }
      ]
    },
    {
      "cell_type": "code",
      "source": [
        "# 13. Створіть дві матриці розміром 3x3, заповніть їх випадковими дійсними числами в\n",
        "# діапазоні від -1 до 1 та знайдіть суму їх елементів.\n",
        "\n",
        "matrix1 = np.random.uniform(-1, 1, (3, 3))\n",
        "matrix2 = np.random.uniform(-1, 1, (3, 3))\n",
        "\n",
        "sum1 = np.sum(matrix1)\n",
        "sum2 = np.sum(matrix2)\n",
        "sum3 = sum1 + sum2\n",
        "\n",
        "print(matrix1)\n",
        "print(\"сума елементів першої матриці:\", sum1)\n",
        "\n",
        "print(matrix2)\n",
        "print(\"сума елементів другої матриці:\", sum2)\n",
        "\n",
        "print(\"сума всіх елементів:\")\n",
        "print(sum3)"
      ],
      "metadata": {
        "colab": {
          "base_uri": "https://localhost:8080/"
        },
        "id": "GB9T7_TeMeNJ",
        "outputId": "db1a4ba9-ddab-49c6-fd27-9b94ad65ce65"
      },
      "execution_count": 112,
      "outputs": [
        {
          "output_type": "stream",
          "name": "stdout",
          "text": [
            "[[-0.72663246 -0.44305981  0.64933379]\n",
            " [ 0.19953253 -0.4886203  -0.90238993]\n",
            " [ 0.12614196  0.2869429   0.90983363]]\n",
            "сума елементів першої матриці: -0.3889176870737032\n",
            "[[ 0.46263828 -0.87262599 -0.78496826]\n",
            " [ 0.59686213  0.11997767  0.56418115]\n",
            " [ 0.69114272 -0.38502099 -0.8283707 ]]\n",
            "сума елементів другої матриці: -0.4361839863703618\n",
            "сума всіх елементів:\n",
            "-0.825101673444065\n"
          ]
        }
      ]
    },
    {
      "cell_type": "code",
      "source": [
        "# 14. Створіть матрицю розміром 3x3, заповніть її випадковими дійсними числами в\n",
        "# діапазоні від -3 до 3 та знайдіть найбільший елемент матриці.\n",
        "\n",
        "matrix = np.random.uniform(-3, 3, (3, 3))\n",
        "\n",
        "max = np.max(matrix)\n",
        "\n",
        "print(matrix)\n",
        "print(\"найбільший елемент:\", max)"
      ],
      "metadata": {
        "colab": {
          "base_uri": "https://localhost:8080/"
        },
        "id": "ehQXUOSzOdla",
        "outputId": "27380a2b-6e5a-41d6-9624-cb6b4dd5ed62"
      },
      "execution_count": 102,
      "outputs": [
        {
          "output_type": "stream",
          "name": "stdout",
          "text": [
            "[[ 1.52791187 -2.47260553 -2.75257396]\n",
            " [-0.43316575 -0.26302473 -1.62755738]\n",
            " [ 1.52823876 -2.89942363  2.06445151]]\n",
            "найбільший елемент: 2.06445150651299\n"
          ]
        }
      ]
    },
    {
      "cell_type": "code",
      "source": [
        "# 15. Створіть матрицю розміром 3x3, заповніть її випадковими дійсними числами в\n",
        "# діапазоні від -0.5 до 0.5 та знайдіть вектор-стовпчик, що містить кількість нульових\n",
        "# елементів в кожному рядку матриці.\n",
        "\n",
        "matrix = np.random.uniform(-0.5, 0.5, (3, 3))\n",
        "\n",
        "zero_vector = np.sum(matrix == 0, axis=1).reshape(-1, 1)\n",
        "\n",
        "print(matrix)\n",
        "print(\"кількість нульових елементів в кожному рядку:\")\n",
        "print(zero_vector)"
      ],
      "metadata": {
        "colab": {
          "base_uri": "https://localhost:8080/"
        },
        "id": "cX9LJLodPrXB",
        "outputId": "5c3460f6-caf8-41d8-ee3c-b8a654c084f3"
      },
      "execution_count": 101,
      "outputs": [
        {
          "output_type": "stream",
          "name": "stdout",
          "text": [
            "[[ 0.23321091 -0.44285753  0.30952526]\n",
            " [-0.38557739  0.46658656 -0.48643274]\n",
            " [-0.36291051  0.14909419  0.24474728]]\n",
            "кількість нульових елементів в кожному рядку:\n",
            "[[0]\n",
            " [0]\n",
            " [0]]\n"
          ]
        }
      ]
    },
    {
      "cell_type": "code",
      "source": [
        "# Висновок: під час виконання даної лабораторної роботи була проведена робота з матрицями та векторами за допомогою бібліотеки NumPy, а саме\n",
        "# заповнення випадковими дійсними та цілими числами, знаходження середнього значення, додавання, віднімання, множення (в тому числі і поелементне), транспонування, знаходження оберненої матриці, добутку елементів діагоналі тощо."
      ],
      "metadata": {
        "id": "6otMJjtHQ84q"
      },
      "execution_count": null,
      "outputs": []
    }
  ]
}