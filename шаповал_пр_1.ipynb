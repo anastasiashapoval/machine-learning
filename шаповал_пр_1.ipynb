{
  "nbformat": 4,
  "nbformat_minor": 0,
  "metadata": {
    "colab": {
      "provenance": [],
      "authorship_tag": "ABX9TyPnfuqSUtCs32d8zdZtSXRs",
      "include_colab_link": true
    },
    "kernelspec": {
      "name": "python3",
      "display_name": "Python 3"
    },
    "language_info": {
      "name": "python"
    }
  },
  "cells": [
    {
      "cell_type": "markdown",
      "metadata": {
        "id": "view-in-github",
        "colab_type": "text"
      },
      "source": [
        "<a href=\"https://colab.research.google.com/github/anastasiashapoval/machine-learning/blob/main/%D1%88%D0%B0%D0%BF%D0%BE%D0%B2%D0%B0%D0%BB_%D0%BF%D1%80_1.ipynb\" target=\"_parent\"><img src=\"https://colab.research.google.com/assets/colab-badge.svg\" alt=\"Open In Colab\"/></a>"
      ]
    },
    {
      "cell_type": "code",
      "execution_count": 8,
      "metadata": {
        "id": "HPvpabmAXXsi"
      },
      "outputs": [],
      "source": [
        "# Варіант 19\n",
        "# одновимірні - а, двохвимірні - m\n",
        "import numpy as np"
      ]
    },
    {
      "cell_type": "code",
      "source": [
        "# 1. Створіть одновимірний масив (вектор) з добутками парних чисел на їхні попередні\n",
        "# непарні числа, починаючи з 2, та виведіть його значення.\n",
        "\n",
        "even_numbers = np.arange(2, 21, 2)\n",
        "\n",
        "a1 = even_numbers * (even_numbers - 1)\n",
        "\n",
        "print(a1)"
      ],
      "metadata": {
        "colab": {
          "base_uri": "https://localhost:8080/"
        },
        "id": "LnCg_ja0Z577",
        "outputId": "dba2463f-0308-4382-dc5d-e95b87a45f42"
      },
      "execution_count": 9,
      "outputs": [
        {
          "output_type": "stream",
          "name": "stdout",
          "text": [
            "[  2  12  30  56  90 132 182 240 306 380]\n"
          ]
        }
      ]
    },
    {
      "cell_type": "code",
      "source": [
        "# 2. Створіть двовимірний масив (матрицю) розміром 3x3, заповніть його значеннями\n",
        "# квадратів випадкових цілих чисел від 1 до 100.\n",
        "m1 = np.random.randint(1, 101, (3, 3))\n",
        "\n",
        "m2 = np.square(m1)\n",
        "\n",
        "print(m2)"
      ],
      "metadata": {
        "colab": {
          "base_uri": "https://localhost:8080/"
        },
        "id": "W22RCm6NaTzZ",
        "outputId": "f2d2513c-4e42-447f-b1be-aa36d0bbda85"
      },
      "execution_count": 13,
      "outputs": [
        {
          "output_type": "stream",
          "name": "stdout",
          "text": [
            "[[7225  576 3481]\n",
            " [2401 5476  900]\n",
            " [2601 1369 6561]]\n"
          ]
        }
      ]
    },
    {
      "cell_type": "code",
      "source": [
        "# 3. Створіть масив розміром 5x5, заповніть його випадковими дійсними числами від -2 до\n",
        "# 2 та знайдіть середнє за модулем значення його елементів\n",
        "m3 = np.random.uniform(-2, 2, (5, 5))\n",
        "\n",
        "m4 = np.mean(np.abs(m3))\n",
        "\n",
        "print(\"Матриця:\")\n",
        "print(m3)\n",
        "print(\"Середнє за модулем значення елементів:\", m4)"
      ],
      "metadata": {
        "colab": {
          "base_uri": "https://localhost:8080/"
        },
        "id": "dtMHFCMIa2YJ",
        "outputId": "b82f97d7-cab9-4600-dd01-3da27836543f"
      },
      "execution_count": 16,
      "outputs": [
        {
          "output_type": "stream",
          "name": "stdout",
          "text": [
            "Матриця:\n",
            "[[-0.02423977  1.08323214  1.19764533 -1.37163489 -1.79698113]\n",
            " [-0.62215566 -0.00450756 -1.50310023  0.24341298 -1.65637314]\n",
            " [ 0.15913216 -1.08966768  0.01041421 -0.3351671   1.54863676]\n",
            " [-1.31056132 -1.5232852   1.55788884  0.44911573  1.37137627]\n",
            " [ 1.90116965  1.26555246  0.51999229 -0.83259672  1.44213492]]\n",
            "Середнє за модулем значення елементів: 0.9927989655575828\n"
          ]
        }
      ]
    },
    {
      "cell_type": "code",
      "source": [
        "# 4. Створіть масив розміром 5x5, заповніть його випадковими дійсними числами в\n",
        "# діапазоні від 0 до 1 та обчисліть суму елементів, які менше середнього значення\n",
        "m5 = np.random.rand(5, 5)\n",
        "\n",
        "mean = np.mean(m5)\n",
        "\n",
        "less_than_mean = m5[m5 < mean] # елементи, менші за середнє значення\n",
        "\n",
        "m6 = np.sum(less_than_mean) # сума елементів, мннших за середнє значення\n",
        "\n",
        "print(\"Масив:\")\n",
        "print(m5)\n",
        "print(\"Середнє значення масиву:\", mean)\n",
        "print(\"Сума елементів, менших за середнє:\", m6)"
      ],
      "metadata": {
        "colab": {
          "base_uri": "https://localhost:8080/"
        },
        "id": "CayegomRfMuf",
        "outputId": "a9f91309-fe77-4978-9426-90e03b52640c"
      },
      "execution_count": 20,
      "outputs": [
        {
          "output_type": "stream",
          "name": "stdout",
          "text": [
            "Масив:\n",
            "[[0.05106069 0.57849893 0.51837234 0.44910222 0.74945248]\n",
            " [0.12123298 0.35964957 0.90956945 0.34635221 0.11132286]\n",
            " [0.07173635 0.76416813 0.05195512 0.37722908 0.66550553]\n",
            " [0.19258131 0.20733075 0.62362978 0.18946818 0.76097333]\n",
            " [0.18250167 0.34711698 0.30435428 0.80702536 0.82656707]]\n",
            "Середнє значення масиву: 0.4226702660709879\n",
            "Сума елементів, менших за середнє: 2.913892032607899\n"
          ]
        }
      ]
    },
    {
      "cell_type": "code",
      "source": [
        "# 5. Створіть два одновимірних масиви розміром 7, заповніть їх випадковими дійсними\n",
        "# числами від -2 до 2 та виконайте на них поелементні операції додавання, віднімання\n",
        "# ta множення.\n",
        "\n",
        "a2 = np.random.uniform(-2, 2, 7)\n",
        "a3 = np.random.uniform(-2, 2, 7)\n",
        "\n",
        "add = a2 + a3\n",
        "subtract = a2 - a3\n",
        "multiplicate = a2 * 3\n",
        "\n",
        "print(\"Масив 1:\", a2)\n",
        "print(\"Масив 2:\", a3)\n",
        "print(\"Додавання:\", add)\n",
        "print(\"Віднімання:\", subtract)\n",
        "print(\"Множення:\", multiplicate)"
      ],
      "metadata": {
        "colab": {
          "base_uri": "https://localhost:8080/"
        },
        "id": "3vzsUDSWqhgK",
        "outputId": "cd9c8cf2-d189-452b-9f3e-252844cf9f54"
      },
      "execution_count": 22,
      "outputs": [
        {
          "output_type": "stream",
          "name": "stdout",
          "text": [
            "Масив 1: [-0.90975775 -1.81647901  0.48063086  0.97003988  1.5241198  -1.73382982\n",
            "  0.53371466]\n",
            "Масив 2: [ 0.36263135 -1.96515143 -0.64921587 -1.56273769  0.74413641 -1.00942377\n",
            " -1.10456476]\n",
            "Додавання: [-0.5471264  -3.78163044 -0.16858501 -0.59269781  2.26825621 -2.74325359\n",
            " -0.57085011]\n",
            "Віднімання: [-1.2723891   0.14867242  1.12984673  2.53277756  0.77998339 -0.72440605\n",
            "  1.63827942]\n",
            "Множення: [-2.72927325 -5.44943702  1.44189257  2.91011963  4.5723594  -5.20148946\n",
            "  1.60114397]\n"
          ]
        }
      ]
    },
    {
      "cell_type": "code",
      "source": [
        "# 6. Створіть дві матриці 4x4, заповніть їх довільними цілими числами від 7 до 17 та\n",
        "# знайдіть їх добуток.\n",
        "\n"
      ],
      "metadata": {
        "id": "YhyUwSbxsBre"
      },
      "execution_count": null,
      "outputs": []
    }
  ]
}