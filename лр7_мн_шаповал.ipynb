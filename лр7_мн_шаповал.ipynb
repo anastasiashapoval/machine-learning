{
  "nbformat": 4,
  "nbformat_minor": 0,
  "metadata": {
    "colab": {
      "provenance": [],
      "gpuType": "T4",
      "authorship_tag": "ABX9TyMxC8tU86IJhmZMXhmOroeF",
      "include_colab_link": true
    },
    "kernelspec": {
      "name": "python3",
      "display_name": "Python 3"
    },
    "language_info": {
      "name": "python"
    },
    "accelerator": "GPU"
  },
  "cells": [
    {
      "cell_type": "markdown",
      "metadata": {
        "id": "view-in-github",
        "colab_type": "text"
      },
      "source": [
        "<a href=\"https://colab.research.google.com/github/anastasiashapoval/machine-learning/blob/main/%D0%BB%D1%807_%D0%BC%D0%BD_%D1%88%D0%B0%D0%BF%D0%BE%D0%B2%D0%B0%D0%BB.ipynb\" target=\"_parent\"><img src=\"https://colab.research.google.com/assets/colab-badge.svg\" alt=\"Open In Colab\"/></a>"
      ]
    },
    {
      "cell_type": "markdown",
      "source": [
        "Лабораторна робота 7\n",
        "(була присутня на парі)"
      ],
      "metadata": {
        "id": "0MgnxxWsk24W"
      }
    },
    {
      "cell_type": "code",
      "execution_count": 4,
      "metadata": {
        "colab": {
          "base_uri": "https://localhost:8080/"
        },
        "id": "iYFByjPe_L-9",
        "outputId": "e387b685-e26e-480d-9b1b-47a4fa1b44b7"
      },
      "outputs": [
        {
          "output_type": "stream",
          "name": "stdout",
          "text": [
            "Collecting numpy==1.26.4\n",
            "  Downloading numpy-1.26.4-cp311-cp311-manylinux_2_17_x86_64.manylinux2014_x86_64.whl.metadata (61 kB)\n",
            "\u001b[?25l     \u001b[90m━━━━━━━━━━━━━━━━━━━━━━━━━━━━━━━━━━━━━━━━\u001b[0m \u001b[32m0.0/61.0 kB\u001b[0m \u001b[31m?\u001b[0m eta \u001b[36m-:--:--\u001b[0m\r\u001b[2K     \u001b[90m━━━━━━━━━━━━━━━━━━━━━━━━━━━━━━━━━━━━━━━━\u001b[0m \u001b[32m61.0/61.0 kB\u001b[0m \u001b[31m3.8 MB/s\u001b[0m eta \u001b[36m0:00:00\u001b[0m\n",
            "\u001b[?25hDownloading numpy-1.26.4-cp311-cp311-manylinux_2_17_x86_64.manylinux2014_x86_64.whl (18.3 MB)\n",
            "\u001b[2K   \u001b[90m━━━━━━━━━━━━━━━━━━━━━━━━━━━━━━━━━━━━━━━━\u001b[0m \u001b[32m18.3/18.3 MB\u001b[0m \u001b[31m67.0 MB/s\u001b[0m eta \u001b[36m0:00:00\u001b[0m\n",
            "\u001b[?25hInstalling collected packages: numpy\n",
            "  Attempting uninstall: numpy\n",
            "    Found existing installation: numpy 2.0.2\n",
            "    Uninstalling numpy-2.0.2:\n",
            "      Successfully uninstalled numpy-2.0.2\n",
            "\u001b[31mERROR: pip's dependency resolver does not currently take into account all the packages that are installed. This behaviour is the source of the following dependency conflicts.\n",
            "thinc 8.3.6 requires numpy<3.0.0,>=2.0.0, but you have numpy 1.26.4 which is incompatible.\u001b[0m\u001b[31m\n",
            "\u001b[0mSuccessfully installed numpy-1.26.4\n",
            "Collecting scikit-surprise\n",
            "  Downloading scikit_surprise-1.1.4.tar.gz (154 kB)\n",
            "\u001b[2K     \u001b[90m━━━━━━━━━━━━━━━━━━━━━━━━━━━━━━━━━━━━━━━\u001b[0m \u001b[32m154.4/154.4 kB\u001b[0m \u001b[31m5.3 MB/s\u001b[0m eta \u001b[36m0:00:00\u001b[0m\n",
            "\u001b[?25h  Installing build dependencies ... \u001b[?25l\u001b[?25hdone\n",
            "  Getting requirements to build wheel ... \u001b[?25l\u001b[?25hdone\n",
            "  Preparing metadata (pyproject.toml) ... \u001b[?25l\u001b[?25hdone\n",
            "Building wheels for collected packages: scikit-surprise\n",
            "  Building wheel for scikit-surprise (pyproject.toml) ... \u001b[?25l\u001b[?25hdone\n",
            "  Created wheel for scikit-surprise: filename=scikit_surprise-1.1.4-cp311-cp311-linux_x86_64.whl size=2505212 sha256=4f02e12feb72264c2ed08d3d91dca135b73e998ee047d7122a412ffcbab9e60f\n",
            "  Stored in directory: /root/.cache/pip/wheels/2a/8f/6e/7e2899163e2d85d8266daab4aa1cdabec7a6c56f83c015b5af\n",
            "Successfully built scikit-surprise\n",
            "Installing collected packages: scikit-surprise\n",
            "Successfully installed scikit-surprise-1.1.4\n"
          ]
        }
      ],
      "source": [
        "!pip install numpy==1.26.4 --force-reinstall\n",
        "!pip install scikit-surprise --no-deps"
      ]
    },
    {
      "cell_type": "code",
      "source": [
        "from surprise import Dataset, Reader\n",
        "from surprise import SVD, KNNBasic\n",
        "from surprise import accuracy\n",
        "from surprise.model_selection import train_test_split\n",
        "from surprise.model_selection import cross_validate, GridSearchCV"
      ],
      "metadata": {
        "id": "j1O4QXMVaiC_"
      },
      "execution_count": 1,
      "outputs": []
    },
    {
      "cell_type": "code",
      "source": [
        "data = Dataset.load_builtin('ml-100k')\n",
        "\n",
        "print(\"Перші 5 рядків датасету:\")\n",
        "for row in data.raw_ratings[:5]:\n",
        "    print(row)"
      ],
      "metadata": {
        "colab": {
          "base_uri": "https://localhost:8080/"
        },
        "id": "EaUoKhsEcN_Q",
        "outputId": "607308f9-330a-4c3d-810e-a38461a50367"
      },
      "execution_count": 2,
      "outputs": [
        {
          "output_type": "stream",
          "name": "stdout",
          "text": [
            "Dataset ml-100k could not be found. Do you want to download it? [Y/n] y\n",
            "Trying to download dataset from https://files.grouplens.org/datasets/movielens/ml-100k.zip...\n",
            "Done! Dataset ml-100k has been saved to /root/.surprise_data/ml-100k\n",
            "Перші 5 рядків датасету:\n",
            "('196', '242', 3.0, '881250949')\n",
            "('186', '302', 3.0, '891717742')\n",
            "('22', '377', 1.0, '878887116')\n",
            "('244', '51', 2.0, '880606923')\n",
            "('166', '346', 1.0, '886397596')\n"
          ]
        }
      ]
    },
    {
      "cell_type": "code",
      "source": [
        "data = Dataset.load_builtin('ml-100k')\n",
        "\n",
        "print(\"Перші 5 рядків датасету з поясненням:\")\n",
        "for row in data.raw_ratings[:5]:\n",
        "    user_id, movie_id, rating, timestamp = row\n",
        "    print(f\"Користувач {user_id} оцінив фільм {movie_id} на {rating} балів (часова позначка: {timestamp})\")"
      ],
      "metadata": {
        "colab": {
          "base_uri": "https://localhost:8080/"
        },
        "id": "K0u8fVwndnv0",
        "outputId": "65286191-5d30-4cf4-b220-354ab09efdf2"
      },
      "execution_count": 3,
      "outputs": [
        {
          "output_type": "stream",
          "name": "stdout",
          "text": [
            "Перші 5 рядків датасету з поясненням:\n",
            "Користувач 196 оцінив фільм 242 на 3.0 балів (часова позначка: 881250949)\n",
            "Користувач 186 оцінив фільм 302 на 3.0 балів (часова позначка: 891717742)\n",
            "Користувач 22 оцінив фільм 377 на 1.0 балів (часова позначка: 878887116)\n",
            "Користувач 244 оцінив фільм 51 на 2.0 балів (часова позначка: 880606923)\n",
            "Користувач 166 оцінив фільм 346 на 1.0 балів (часова позначка: 886397596)\n"
          ]
        }
      ]
    },
    {
      "cell_type": "code",
      "source": [
        "trainset, testset = train_test_split(data, test_size=0.2)\n",
        "\n",
        "# Параметри для підбору через GridSearchCV для SVD\n",
        "param_grid_svd = {\n",
        "    'n_factors': [50, 100],\n",
        "    'lr_all': [0.005, 0.010],\n",
        "    'reg_all': [0.02, 0.05]\n",
        "}\n",
        "\n",
        "# Параметри для підбору через GridSearchCV для KNNBasic\n",
        "param_grid_knn = {\n",
        "    'k': [20, 40],\n",
        "    'min_k': [1, 5],\n",
        "    'sim_options': {\n",
        "        'name': ['cosine', 'pearson'],\n",
        "        'user_based': [False, True]\n",
        "    }\n",
        "}\n",
        "\n",
        "grid_search_svd = GridSearchCV(SVD, param_grid_svd, measures=['rmse', 'mae'], cv=3)\n",
        "grid_search_svd.fit(data)\n",
        "\n",
        "grid_search_knn = GridSearchCV(KNNBasic, param_grid_knn, measures=['rmse', 'mae'], cv=3)\n",
        "grid_search_knn.fit(data)\n",
        "\n"
      ],
      "metadata": {
        "colab": {
          "base_uri": "https://localhost:8080/"
        },
        "id": "kJQ5SRAXd84R",
        "outputId": "72f2cbfa-1cb1-400a-e77e-371a951c7158"
      },
      "execution_count": 4,
      "outputs": [
        {
          "output_type": "stream",
          "name": "stdout",
          "text": [
            "Computing the cosine similarity matrix...\n",
            "Done computing similarity matrix.\n",
            "Computing the cosine similarity matrix...\n",
            "Done computing similarity matrix.\n",
            "Computing the cosine similarity matrix...\n",
            "Done computing similarity matrix.\n",
            "Computing the cosine similarity matrix...\n",
            "Done computing similarity matrix.\n",
            "Computing the cosine similarity matrix...\n",
            "Done computing similarity matrix.\n",
            "Computing the cosine similarity matrix...\n",
            "Done computing similarity matrix.\n",
            "Computing the pearson similarity matrix...\n",
            "Done computing similarity matrix.\n",
            "Computing the pearson similarity matrix...\n",
            "Done computing similarity matrix.\n",
            "Computing the pearson similarity matrix...\n",
            "Done computing similarity matrix.\n",
            "Computing the pearson similarity matrix...\n",
            "Done computing similarity matrix.\n",
            "Computing the pearson similarity matrix...\n",
            "Done computing similarity matrix.\n",
            "Computing the pearson similarity matrix...\n",
            "Done computing similarity matrix.\n",
            "Computing the cosine similarity matrix...\n",
            "Done computing similarity matrix.\n",
            "Computing the cosine similarity matrix...\n",
            "Done computing similarity matrix.\n",
            "Computing the cosine similarity matrix...\n",
            "Done computing similarity matrix.\n",
            "Computing the cosine similarity matrix...\n",
            "Done computing similarity matrix.\n",
            "Computing the cosine similarity matrix...\n",
            "Done computing similarity matrix.\n",
            "Computing the cosine similarity matrix...\n",
            "Done computing similarity matrix.\n",
            "Computing the pearson similarity matrix...\n",
            "Done computing similarity matrix.\n",
            "Computing the pearson similarity matrix...\n",
            "Done computing similarity matrix.\n",
            "Computing the pearson similarity matrix...\n",
            "Done computing similarity matrix.\n",
            "Computing the pearson similarity matrix...\n",
            "Done computing similarity matrix.\n",
            "Computing the pearson similarity matrix...\n",
            "Done computing similarity matrix.\n",
            "Computing the pearson similarity matrix...\n",
            "Done computing similarity matrix.\n",
            "Computing the cosine similarity matrix...\n",
            "Done computing similarity matrix.\n",
            "Computing the cosine similarity matrix...\n",
            "Done computing similarity matrix.\n",
            "Computing the cosine similarity matrix...\n",
            "Done computing similarity matrix.\n",
            "Computing the cosine similarity matrix...\n",
            "Done computing similarity matrix.\n",
            "Computing the cosine similarity matrix...\n",
            "Done computing similarity matrix.\n",
            "Computing the cosine similarity matrix...\n",
            "Done computing similarity matrix.\n",
            "Computing the pearson similarity matrix...\n",
            "Done computing similarity matrix.\n",
            "Computing the pearson similarity matrix...\n",
            "Done computing similarity matrix.\n",
            "Computing the pearson similarity matrix...\n",
            "Done computing similarity matrix.\n",
            "Computing the pearson similarity matrix...\n",
            "Done computing similarity matrix.\n",
            "Computing the pearson similarity matrix...\n",
            "Done computing similarity matrix.\n",
            "Computing the pearson similarity matrix...\n",
            "Done computing similarity matrix.\n",
            "Computing the cosine similarity matrix...\n",
            "Done computing similarity matrix.\n",
            "Computing the cosine similarity matrix...\n",
            "Done computing similarity matrix.\n",
            "Computing the cosine similarity matrix...\n",
            "Done computing similarity matrix.\n",
            "Computing the cosine similarity matrix...\n",
            "Done computing similarity matrix.\n",
            "Computing the cosine similarity matrix...\n",
            "Done computing similarity matrix.\n",
            "Computing the cosine similarity matrix...\n",
            "Done computing similarity matrix.\n",
            "Computing the pearson similarity matrix...\n",
            "Done computing similarity matrix.\n",
            "Computing the pearson similarity matrix...\n",
            "Done computing similarity matrix.\n",
            "Computing the pearson similarity matrix...\n",
            "Done computing similarity matrix.\n",
            "Computing the pearson similarity matrix...\n",
            "Done computing similarity matrix.\n",
            "Computing the pearson similarity matrix...\n",
            "Done computing similarity matrix.\n",
            "Computing the pearson similarity matrix...\n",
            "Done computing similarity matrix.\n"
          ]
        }
      ]
    },
    {
      "cell_type": "code",
      "source": [
        "best_svd = grid_search_svd.best_estimator['mae']\n",
        "best_knn = grid_search_knn.best_estimator['mae']\n",
        "\n",
        "print(f\"Найкращий MAE для SVD: {grid_search_svd.best_score['mae']}\")\n",
        "print(f\"Найкращий MAE для KNNBasic: {grid_search_knn.best_score['mae']}\")\n",
        "\n",
        "# Вибір моделі з найменшим MAE\n",
        "if grid_search_svd.best_score['mae'] < grid_search_knn.best_score['mae']:\n",
        "    best_model = best_svd\n",
        "    print(\"Вибраний алгоритм: SVD\")\n",
        "else:\n",
        "    best_model = best_knn\n",
        "    print(\"Вибраний алгоритм: KNNBasic\")\n"
      ],
      "metadata": {
        "colab": {
          "base_uri": "https://localhost:8080/"
        },
        "id": "Gp09tDg9jO0V",
        "outputId": "916e0264-6694-4c87-9540-a2fe3f87d212"
      },
      "execution_count": 5,
      "outputs": [
        {
          "output_type": "stream",
          "name": "stdout",
          "text": [
            "Найкращий MAE для SVD: 0.7354117707785163\n",
            "Найкращий MAE для KNNBasic: 0.808180521053\n",
            "Вибраний алгоритм: SVD\n"
          ]
        }
      ]
    },
    {
      "cell_type": "code",
      "source": [
        "best_model.fit(trainset)\n",
        "\n",
        "# Виведення рекомендацій для конкретного користувача\n",
        "user_id = str(196)  # ID користувача для якого ми хочемо отримати рекомендації\n",
        "user_ratings = trainset.ur[trainset.to_inner_uid(user_id)]\n",
        "print(f\"Кількість рецензій користувача {user_id}: {len(user_ratings)}\")\n",
        "\n",
        "# Отримання рекомендацій\n",
        "all_items = set(trainset.all_items())\n",
        "rated_items = set([item for (item, _) in user_ratings])\n",
        "unrated_items = all_items - rated_items\n",
        "\n",
        "# Прогнозування рейтингів для нерецензованих фільмів\n",
        "predictions = [(item, best_model.predict(user_id, trainset.to_raw_iid(item)).est) for item in unrated_items]\n",
        "predictions.sort(key=lambda x: x[1], reverse=True)\n",
        "\n",
        "# Виведення 10 найкращих фільмів\n",
        "print(\"Топ-10 фільмів, рекомендованих для користувача:\")\n",
        "for item_id, rating in predictions[:10]:\n",
        "    print(f\"Фільм {trainset.to_raw_iid(item_id)} з прогнозованим рейтингом {rating:.2f}\")"
      ],
      "metadata": {
        "colab": {
          "base_uri": "https://localhost:8080/"
        },
        "id": "NQJI06MCkZfX",
        "outputId": "3ebce8d2-8c11-4c6c-85fb-383850bfedbe"
      },
      "execution_count": 6,
      "outputs": [
        {
          "output_type": "stream",
          "name": "stdout",
          "text": [
            "Кількість рецензій користувача 196: 29\n",
            "Топ-10 фільмів, рекомендованих для користувача:\n",
            "Фільм 483 з прогнозованим рейтингом 4.47\n",
            "Фільм 654 з прогнозованим рейтингом 4.47\n",
            "Фільм 479 з прогнозованим рейтингом 4.40\n",
            "Фільм 603 з прогнозованим рейтингом 4.39\n",
            "Фільм 1449 з прогнозованим рейтингом 4.33\n",
            "Фільм 178 з прогнозованим рейтингом 4.31\n",
            "Фільм 589 з прогнозованим рейтингом 4.31\n",
            "Фільм 513 з прогнозованим рейтингом 4.30\n",
            "Фільм 56 з прогнозованим рейтингом 4.28\n",
            "Фільм 316 з прогнозованим рейтингом 4.28\n"
          ]
        }
      ]
    },
    {
      "cell_type": "markdown",
      "source": [
        "Висновок: у ході лабораторної роботи було побудовано рекомендаційну систему на основі набору даних ml 100k із використанням бібліотеки surprise. Застосовано алгоритми SVD та KNNBasic, параметри яких оптимізовано за допомогою GridSearchCV.\n",
        "\n"
      ],
      "metadata": {
        "id": "n4WqT7tAkfcW"
      }
    }
  ]
}